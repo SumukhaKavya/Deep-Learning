{
 "cells": [
  {
   "cell_type": "code",
   "execution_count": 1,
   "id": "bd147b28",
   "metadata": {},
   "outputs": [
    {
     "name": "stdout",
     "output_type": "stream",
     "text": [
      "Using TensorFlow backend\n"
     ]
    }
   ],
   "source": [
    "# import required libraries\n",
    "import pandas as pd\n",
    "import numpy as np\n",
    "from sklearn.model_selection import train_test_split\n",
    "from sklearn.preprocessing import StandardScaler\n",
    "from sklearn.preprocessing import LabelEncoder\n",
    "from keras.models import Sequential\n",
    "from keras.layers import Input,Dense\n",
    "from keras_tuner.tuners import RandomSearch"
   ]
  },
  {
   "cell_type": "markdown",
   "id": "3b495d62",
   "metadata": {},
   "source": [
    "## Load the dataset"
   ]
  },
  {
   "cell_type": "code",
   "execution_count": 2,
   "id": "1c413183",
   "metadata": {},
   "outputs": [],
   "source": [
    "df=pd.read_csv(r'F:\\Deep Learning Assignments\\Project-1\\milknew.csv')"
   ]
  },
  {
   "cell_type": "code",
   "execution_count": 3,
   "id": "f1ba44b9",
   "metadata": {},
   "outputs": [
    {
     "data": {
      "text/html": [
       "<div>\n",
       "<style scoped>\n",
       "    .dataframe tbody tr th:only-of-type {\n",
       "        vertical-align: middle;\n",
       "    }\n",
       "\n",
       "    .dataframe tbody tr th {\n",
       "        vertical-align: top;\n",
       "    }\n",
       "\n",
       "    .dataframe thead th {\n",
       "        text-align: right;\n",
       "    }\n",
       "</style>\n",
       "<table border=\"1\" class=\"dataframe\">\n",
       "  <thead>\n",
       "    <tr style=\"text-align: right;\">\n",
       "      <th></th>\n",
       "      <th>pH</th>\n",
       "      <th>Temprature</th>\n",
       "      <th>Taste</th>\n",
       "      <th>Odor</th>\n",
       "      <th>Fat</th>\n",
       "      <th>Turbidity</th>\n",
       "      <th>Colour</th>\n",
       "      <th>Grade</th>\n",
       "    </tr>\n",
       "  </thead>\n",
       "  <tbody>\n",
       "    <tr>\n",
       "      <th>0</th>\n",
       "      <td>6.6</td>\n",
       "      <td>35</td>\n",
       "      <td>1</td>\n",
       "      <td>0</td>\n",
       "      <td>1</td>\n",
       "      <td>0</td>\n",
       "      <td>254</td>\n",
       "      <td>high</td>\n",
       "    </tr>\n",
       "    <tr>\n",
       "      <th>1</th>\n",
       "      <td>6.6</td>\n",
       "      <td>36</td>\n",
       "      <td>0</td>\n",
       "      <td>1</td>\n",
       "      <td>0</td>\n",
       "      <td>1</td>\n",
       "      <td>253</td>\n",
       "      <td>high</td>\n",
       "    </tr>\n",
       "    <tr>\n",
       "      <th>2</th>\n",
       "      <td>8.5</td>\n",
       "      <td>70</td>\n",
       "      <td>1</td>\n",
       "      <td>1</td>\n",
       "      <td>1</td>\n",
       "      <td>1</td>\n",
       "      <td>246</td>\n",
       "      <td>low</td>\n",
       "    </tr>\n",
       "    <tr>\n",
       "      <th>3</th>\n",
       "      <td>9.5</td>\n",
       "      <td>34</td>\n",
       "      <td>1</td>\n",
       "      <td>1</td>\n",
       "      <td>0</td>\n",
       "      <td>1</td>\n",
       "      <td>255</td>\n",
       "      <td>low</td>\n",
       "    </tr>\n",
       "    <tr>\n",
       "      <th>4</th>\n",
       "      <td>6.6</td>\n",
       "      <td>37</td>\n",
       "      <td>0</td>\n",
       "      <td>0</td>\n",
       "      <td>0</td>\n",
       "      <td>0</td>\n",
       "      <td>255</td>\n",
       "      <td>medium</td>\n",
       "    </tr>\n",
       "  </tbody>\n",
       "</table>\n",
       "</div>"
      ],
      "text/plain": [
       "    pH  Temprature  Taste  Odor  Fat   Turbidity  Colour   Grade\n",
       "0  6.6          35      1     0     1          0     254    high\n",
       "1  6.6          36      0     1     0          1     253    high\n",
       "2  8.5          70      1     1     1          1     246     low\n",
       "3  9.5          34      1     1     0          1     255     low\n",
       "4  6.6          37      0     0     0          0     255  medium"
      ]
     },
     "execution_count": 3,
     "metadata": {},
     "output_type": "execute_result"
    }
   ],
   "source": [
    "df.head()"
   ]
  },
  {
   "cell_type": "code",
   "execution_count": 4,
   "id": "75b3ae39",
   "metadata": {},
   "outputs": [
    {
     "name": "stdout",
     "output_type": "stream",
     "text": [
      "<class 'pandas.core.frame.DataFrame'>\n",
      "RangeIndex: 1059 entries, 0 to 1058\n",
      "Data columns (total 8 columns):\n",
      " #   Column      Non-Null Count  Dtype  \n",
      "---  ------      --------------  -----  \n",
      " 0   pH          1059 non-null   float64\n",
      " 1   Temprature  1059 non-null   int64  \n",
      " 2   Taste       1059 non-null   int64  \n",
      " 3   Odor        1059 non-null   int64  \n",
      " 4   Fat         1059 non-null   int64  \n",
      " 5   Turbidity   1059 non-null   int64  \n",
      " 6   Colour      1059 non-null   int64  \n",
      " 7   Grade       1059 non-null   object \n",
      "dtypes: float64(1), int64(6), object(1)\n",
      "memory usage: 66.3+ KB\n"
     ]
    }
   ],
   "source": [
    "df.info()"
   ]
  },
  {
   "cell_type": "code",
   "execution_count": 5,
   "id": "d1f709fd",
   "metadata": {},
   "outputs": [],
   "source": [
    "# renaming the column\n",
    "df = df.rename(columns={'Fat ':'Fat'})"
   ]
  },
  {
   "cell_type": "code",
   "execution_count": 6,
   "id": "b45cb9c1",
   "metadata": {},
   "outputs": [
    {
     "data": {
      "text/html": [
       "<div>\n",
       "<style scoped>\n",
       "    .dataframe tbody tr th:only-of-type {\n",
       "        vertical-align: middle;\n",
       "    }\n",
       "\n",
       "    .dataframe tbody tr th {\n",
       "        vertical-align: top;\n",
       "    }\n",
       "\n",
       "    .dataframe thead th {\n",
       "        text-align: right;\n",
       "    }\n",
       "</style>\n",
       "<table border=\"1\" class=\"dataframe\">\n",
       "  <thead>\n",
       "    <tr style=\"text-align: right;\">\n",
       "      <th></th>\n",
       "      <th>pH</th>\n",
       "      <th>Temprature</th>\n",
       "      <th>Taste</th>\n",
       "      <th>Odor</th>\n",
       "      <th>Fat</th>\n",
       "      <th>Turbidity</th>\n",
       "      <th>Colour</th>\n",
       "      <th>Grade</th>\n",
       "    </tr>\n",
       "  </thead>\n",
       "  <tbody>\n",
       "    <tr>\n",
       "      <th>0</th>\n",
       "      <td>6.6</td>\n",
       "      <td>35</td>\n",
       "      <td>1</td>\n",
       "      <td>0</td>\n",
       "      <td>1</td>\n",
       "      <td>0</td>\n",
       "      <td>254</td>\n",
       "      <td>2</td>\n",
       "    </tr>\n",
       "    <tr>\n",
       "      <th>1</th>\n",
       "      <td>6.6</td>\n",
       "      <td>36</td>\n",
       "      <td>0</td>\n",
       "      <td>1</td>\n",
       "      <td>0</td>\n",
       "      <td>1</td>\n",
       "      <td>253</td>\n",
       "      <td>2</td>\n",
       "    </tr>\n",
       "    <tr>\n",
       "      <th>2</th>\n",
       "      <td>8.5</td>\n",
       "      <td>70</td>\n",
       "      <td>1</td>\n",
       "      <td>1</td>\n",
       "      <td>1</td>\n",
       "      <td>1</td>\n",
       "      <td>246</td>\n",
       "      <td>0</td>\n",
       "    </tr>\n",
       "    <tr>\n",
       "      <th>3</th>\n",
       "      <td>9.5</td>\n",
       "      <td>34</td>\n",
       "      <td>1</td>\n",
       "      <td>1</td>\n",
       "      <td>0</td>\n",
       "      <td>1</td>\n",
       "      <td>255</td>\n",
       "      <td>0</td>\n",
       "    </tr>\n",
       "    <tr>\n",
       "      <th>4</th>\n",
       "      <td>6.6</td>\n",
       "      <td>37</td>\n",
       "      <td>0</td>\n",
       "      <td>0</td>\n",
       "      <td>0</td>\n",
       "      <td>0</td>\n",
       "      <td>255</td>\n",
       "      <td>1</td>\n",
       "    </tr>\n",
       "    <tr>\n",
       "      <th>...</th>\n",
       "      <td>...</td>\n",
       "      <td>...</td>\n",
       "      <td>...</td>\n",
       "      <td>...</td>\n",
       "      <td>...</td>\n",
       "      <td>...</td>\n",
       "      <td>...</td>\n",
       "      <td>...</td>\n",
       "    </tr>\n",
       "    <tr>\n",
       "      <th>1054</th>\n",
       "      <td>6.7</td>\n",
       "      <td>45</td>\n",
       "      <td>1</td>\n",
       "      <td>1</td>\n",
       "      <td>0</td>\n",
       "      <td>0</td>\n",
       "      <td>247</td>\n",
       "      <td>1</td>\n",
       "    </tr>\n",
       "    <tr>\n",
       "      <th>1055</th>\n",
       "      <td>6.7</td>\n",
       "      <td>38</td>\n",
       "      <td>1</td>\n",
       "      <td>0</td>\n",
       "      <td>1</td>\n",
       "      <td>0</td>\n",
       "      <td>255</td>\n",
       "      <td>2</td>\n",
       "    </tr>\n",
       "    <tr>\n",
       "      <th>1056</th>\n",
       "      <td>3.0</td>\n",
       "      <td>40</td>\n",
       "      <td>1</td>\n",
       "      <td>1</td>\n",
       "      <td>1</td>\n",
       "      <td>1</td>\n",
       "      <td>255</td>\n",
       "      <td>0</td>\n",
       "    </tr>\n",
       "    <tr>\n",
       "      <th>1057</th>\n",
       "      <td>6.8</td>\n",
       "      <td>43</td>\n",
       "      <td>1</td>\n",
       "      <td>0</td>\n",
       "      <td>1</td>\n",
       "      <td>0</td>\n",
       "      <td>250</td>\n",
       "      <td>2</td>\n",
       "    </tr>\n",
       "    <tr>\n",
       "      <th>1058</th>\n",
       "      <td>8.6</td>\n",
       "      <td>55</td>\n",
       "      <td>0</td>\n",
       "      <td>1</td>\n",
       "      <td>1</td>\n",
       "      <td>1</td>\n",
       "      <td>255</td>\n",
       "      <td>0</td>\n",
       "    </tr>\n",
       "  </tbody>\n",
       "</table>\n",
       "<p>1059 rows × 8 columns</p>\n",
       "</div>"
      ],
      "text/plain": [
       "       pH  Temprature  Taste  Odor  Fat  Turbidity  Colour  Grade\n",
       "0     6.6          35      1     0    1          0     254      2\n",
       "1     6.6          36      0     1    0          1     253      2\n",
       "2     8.5          70      1     1    1          1     246      0\n",
       "3     9.5          34      1     1    0          1     255      0\n",
       "4     6.6          37      0     0    0          0     255      1\n",
       "...   ...         ...    ...   ...  ...        ...     ...    ...\n",
       "1054  6.7          45      1     1    0          0     247      1\n",
       "1055  6.7          38      1     0    1          0     255      2\n",
       "1056  3.0          40      1     1    1          1     255      0\n",
       "1057  6.8          43      1     0    1          0     250      2\n",
       "1058  8.6          55      0     1    1          1     255      0\n",
       "\n",
       "[1059 rows x 8 columns]"
      ]
     },
     "execution_count": 6,
     "metadata": {},
     "output_type": "execute_result"
    }
   ],
   "source": [
    "# Converting test category into numerical, using mapping such as low - 0, medium - 1 and high - 2\n",
    "df['Grade'] = df['Grade'].map({'high':2, 'medium':1 ,'low':0})\n",
    "df"
   ]
  },
  {
   "cell_type": "code",
   "execution_count": 7,
   "id": "8200d370",
   "metadata": {},
   "outputs": [
    {
     "name": "stdout",
     "output_type": "stream",
     "text": [
      "<class 'pandas.core.frame.DataFrame'>\n",
      "RangeIndex: 1059 entries, 0 to 1058\n",
      "Data columns (total 8 columns):\n",
      " #   Column      Non-Null Count  Dtype  \n",
      "---  ------      --------------  -----  \n",
      " 0   pH          1059 non-null   float64\n",
      " 1   Temprature  1059 non-null   int64  \n",
      " 2   Taste       1059 non-null   int64  \n",
      " 3   Odor        1059 non-null   int64  \n",
      " 4   Fat         1059 non-null   int64  \n",
      " 5   Turbidity   1059 non-null   int64  \n",
      " 6   Colour      1059 non-null   int64  \n",
      " 7   Grade       1059 non-null   int64  \n",
      "dtypes: float64(1), int64(7)\n",
      "memory usage: 66.3 KB\n"
     ]
    }
   ],
   "source": [
    "df.info()"
   ]
  },
  {
   "cell_type": "code",
   "execution_count": 8,
   "id": "cef94b69",
   "metadata": {},
   "outputs": [],
   "source": [
    "# Split into features and target\n",
    "X = df.drop('Grade', axis=1)\n",
    "y = df['Grade']"
   ]
  },
  {
   "cell_type": "code",
   "execution_count": 9,
   "id": "f802506a",
   "metadata": {},
   "outputs": [],
   "source": [
    "# Split the dataset into training and testing sets\n",
    "X_train, X_test, y_train, y_test = train_test_split(X, y, test_size=0.2, random_state=42)"
   ]
  },
  {
   "cell_type": "code",
   "execution_count": 10,
   "id": "5c575922",
   "metadata": {},
   "outputs": [
    {
     "data": {
      "text/plain": [
       "(847, 7)"
      ]
     },
     "execution_count": 10,
     "metadata": {},
     "output_type": "execute_result"
    }
   ],
   "source": [
    "X_train.shape"
   ]
  },
  {
   "cell_type": "code",
   "execution_count": 11,
   "id": "6cf2c68a",
   "metadata": {},
   "outputs": [
    {
     "data": {
      "text/plain": [
       "(847,)"
      ]
     },
     "execution_count": 11,
     "metadata": {},
     "output_type": "execute_result"
    }
   ],
   "source": [
    "y_train.shape"
   ]
  },
  {
   "cell_type": "code",
   "execution_count": 12,
   "id": "df3f4045",
   "metadata": {},
   "outputs": [
    {
     "data": {
      "text/plain": [
       "(212, 7)"
      ]
     },
     "execution_count": 12,
     "metadata": {},
     "output_type": "execute_result"
    }
   ],
   "source": [
    "X_test.shape"
   ]
  },
  {
   "cell_type": "code",
   "execution_count": 13,
   "id": "ce065990",
   "metadata": {},
   "outputs": [
    {
     "data": {
      "text/plain": [
       "(212,)"
      ]
     },
     "execution_count": 13,
     "metadata": {},
     "output_type": "execute_result"
    }
   ],
   "source": [
    "y_test.shape"
   ]
  },
  {
   "cell_type": "code",
   "execution_count": 14,
   "id": "6fdaffeb",
   "metadata": {
    "scrolled": true
   },
   "outputs": [
    {
     "data": {
      "text/html": [
       "<div>\n",
       "<style scoped>\n",
       "    .dataframe tbody tr th:only-of-type {\n",
       "        vertical-align: middle;\n",
       "    }\n",
       "\n",
       "    .dataframe tbody tr th {\n",
       "        vertical-align: top;\n",
       "    }\n",
       "\n",
       "    .dataframe thead th {\n",
       "        text-align: right;\n",
       "    }\n",
       "</style>\n",
       "<table border=\"1\" class=\"dataframe\">\n",
       "  <thead>\n",
       "    <tr style=\"text-align: right;\">\n",
       "      <th></th>\n",
       "      <th>pH</th>\n",
       "      <th>Temprature</th>\n",
       "      <th>Taste</th>\n",
       "      <th>Odor</th>\n",
       "      <th>Fat</th>\n",
       "      <th>Turbidity</th>\n",
       "      <th>Colour</th>\n",
       "    </tr>\n",
       "  </thead>\n",
       "  <tbody>\n",
       "    <tr>\n",
       "      <th>331</th>\n",
       "      <td>6.8</td>\n",
       "      <td>40</td>\n",
       "      <td>1</td>\n",
       "      <td>0</td>\n",
       "      <td>1</td>\n",
       "      <td>0</td>\n",
       "      <td>245</td>\n",
       "    </tr>\n",
       "    <tr>\n",
       "      <th>44</th>\n",
       "      <td>6.6</td>\n",
       "      <td>45</td>\n",
       "      <td>0</td>\n",
       "      <td>0</td>\n",
       "      <td>0</td>\n",
       "      <td>1</td>\n",
       "      <td>250</td>\n",
       "    </tr>\n",
       "    <tr>\n",
       "      <th>307</th>\n",
       "      <td>6.8</td>\n",
       "      <td>45</td>\n",
       "      <td>1</td>\n",
       "      <td>1</td>\n",
       "      <td>1</td>\n",
       "      <td>0</td>\n",
       "      <td>245</td>\n",
       "    </tr>\n",
       "    <tr>\n",
       "      <th>323</th>\n",
       "      <td>9.0</td>\n",
       "      <td>43</td>\n",
       "      <td>1</td>\n",
       "      <td>0</td>\n",
       "      <td>1</td>\n",
       "      <td>1</td>\n",
       "      <td>250</td>\n",
       "    </tr>\n",
       "    <tr>\n",
       "      <th>1009</th>\n",
       "      <td>9.0</td>\n",
       "      <td>43</td>\n",
       "      <td>1</td>\n",
       "      <td>0</td>\n",
       "      <td>1</td>\n",
       "      <td>1</td>\n",
       "      <td>250</td>\n",
       "    </tr>\n",
       "  </tbody>\n",
       "</table>\n",
       "</div>"
      ],
      "text/plain": [
       "       pH  Temprature  Taste  Odor  Fat  Turbidity  Colour\n",
       "331   6.8          40      1     0    1          0     245\n",
       "44    6.6          45      0     0    0          1     250\n",
       "307   6.8          45      1     1    1          0     245\n",
       "323   9.0          43      1     0    1          1     250\n",
       "1009  9.0          43      1     0    1          1     250"
      ]
     },
     "execution_count": 14,
     "metadata": {},
     "output_type": "execute_result"
    }
   ],
   "source": [
    "X_train.head()"
   ]
  },
  {
   "cell_type": "markdown",
   "id": "a51ce748",
   "metadata": {},
   "source": [
    "## Balancing the Data"
   ]
  },
  {
   "cell_type": "code",
   "execution_count": 15,
   "id": "0d7e7ede",
   "metadata": {},
   "outputs": [
    {
     "data": {
      "text/plain": [
       "0    351\n",
       "1    288\n",
       "2    208\n",
       "Name: Grade, dtype: int64"
      ]
     },
     "execution_count": 15,
     "metadata": {},
     "output_type": "execute_result"
    }
   ],
   "source": [
    "y_train.value_counts()"
   ]
  },
  {
   "cell_type": "code",
   "execution_count": 16,
   "id": "564f48d1",
   "metadata": {},
   "outputs": [],
   "source": [
    "from imblearn.over_sampling import SMOTE\n",
    "\n",
    "smote = SMOTE()  \n",
    "\n",
    "X_train, y_train = smote.fit_resample(X_train, y_train)"
   ]
  },
  {
   "cell_type": "code",
   "execution_count": 17,
   "id": "c9bd6830",
   "metadata": {},
   "outputs": [
    {
     "data": {
      "text/plain": [
       "1    351\n",
       "2    351\n",
       "0    351\n",
       "Name: Grade, dtype: int64"
      ]
     },
     "execution_count": 17,
     "metadata": {},
     "output_type": "execute_result"
    }
   ],
   "source": [
    "y_train.value_counts()"
   ]
  },
  {
   "cell_type": "markdown",
   "id": "d9e7960e",
   "metadata": {},
   "source": [
    "## Data Preprocessing"
   ]
  },
  {
   "cell_type": "code",
   "execution_count": 18,
   "id": "97f79f1a",
   "metadata": {},
   "outputs": [],
   "source": [
    "st=StandardScaler()"
   ]
  },
  {
   "cell_type": "code",
   "execution_count": 26,
   "id": "3886b9a0",
   "metadata": {},
   "outputs": [
    {
     "data": {
      "text/html": [
       "<div>\n",
       "<style scoped>\n",
       "    .dataframe tbody tr th:only-of-type {\n",
       "        vertical-align: middle;\n",
       "    }\n",
       "\n",
       "    .dataframe tbody tr th {\n",
       "        vertical-align: top;\n",
       "    }\n",
       "\n",
       "    .dataframe thead th {\n",
       "        text-align: right;\n",
       "    }\n",
       "</style>\n",
       "<table border=\"1\" class=\"dataframe\">\n",
       "  <thead>\n",
       "    <tr style=\"text-align: right;\">\n",
       "      <th></th>\n",
       "      <th>pH</th>\n",
       "      <th>Temprature</th>\n",
       "      <th>Taste</th>\n",
       "      <th>Odor</th>\n",
       "      <th>Fat</th>\n",
       "      <th>Turbidity</th>\n",
       "      <th>Colour</th>\n",
       "    </tr>\n",
       "  </thead>\n",
       "  <tbody>\n",
       "    <tr>\n",
       "      <th>0</th>\n",
       "      <td>0.132518</td>\n",
       "      <td>-0.359604</td>\n",
       "      <td>0.897872</td>\n",
       "      <td>-0.918767</td>\n",
       "      <td>0.635610</td>\n",
       "      <td>-0.999051</td>\n",
       "      <td>-1.627854</td>\n",
       "    </tr>\n",
       "    <tr>\n",
       "      <th>1</th>\n",
       "      <td>-0.024460</td>\n",
       "      <td>0.192061</td>\n",
       "      <td>-1.113744</td>\n",
       "      <td>-0.918767</td>\n",
       "      <td>-1.573292</td>\n",
       "      <td>1.000950</td>\n",
       "      <td>-0.449109</td>\n",
       "    </tr>\n",
       "    <tr>\n",
       "      <th>2</th>\n",
       "      <td>0.132518</td>\n",
       "      <td>0.192061</td>\n",
       "      <td>0.897872</td>\n",
       "      <td>1.088415</td>\n",
       "      <td>0.635610</td>\n",
       "      <td>-0.999051</td>\n",
       "      <td>-1.627854</td>\n",
       "    </tr>\n",
       "    <tr>\n",
       "      <th>3</th>\n",
       "      <td>1.859271</td>\n",
       "      <td>-0.028605</td>\n",
       "      <td>0.897872</td>\n",
       "      <td>-0.918767</td>\n",
       "      <td>0.635610</td>\n",
       "      <td>1.000950</td>\n",
       "      <td>-0.449109</td>\n",
       "    </tr>\n",
       "    <tr>\n",
       "      <th>4</th>\n",
       "      <td>1.859271</td>\n",
       "      <td>-0.028605</td>\n",
       "      <td>0.897872</td>\n",
       "      <td>-0.918767</td>\n",
       "      <td>0.635610</td>\n",
       "      <td>1.000950</td>\n",
       "      <td>-0.449109</td>\n",
       "    </tr>\n",
       "  </tbody>\n",
       "</table>\n",
       "</div>"
      ],
      "text/plain": [
       "         pH  Temprature     Taste      Odor       Fat  Turbidity    Colour\n",
       "0  0.132518   -0.359604  0.897872 -0.918767  0.635610  -0.999051 -1.627854\n",
       "1 -0.024460    0.192061 -1.113744 -0.918767 -1.573292   1.000950 -0.449109\n",
       "2  0.132518    0.192061  0.897872  1.088415  0.635610  -0.999051 -1.627854\n",
       "3  1.859271   -0.028605  0.897872 -0.918767  0.635610   1.000950 -0.449109\n",
       "4  1.859271   -0.028605  0.897872 -0.918767  0.635610   1.000950 -0.449109"
      ]
     },
     "execution_count": 26,
     "metadata": {},
     "output_type": "execute_result"
    }
   ],
   "source": [
    "# standardizing the numerical data\n",
    "X_trains=pd.DataFrame(st.fit_transform(X_train),\n",
    "                    columns=X_train.columns,\n",
    "                      index=X_train.index)\n",
    "X_trains.head()"
   ]
  },
  {
   "cell_type": "code",
   "execution_count": 27,
   "id": "57956a19",
   "metadata": {},
   "outputs": [
    {
     "data": {
      "text/html": [
       "<div>\n",
       "<style scoped>\n",
       "    .dataframe tbody tr th:only-of-type {\n",
       "        vertical-align: middle;\n",
       "    }\n",
       "\n",
       "    .dataframe tbody tr th {\n",
       "        vertical-align: top;\n",
       "    }\n",
       "\n",
       "    .dataframe thead th {\n",
       "        text-align: right;\n",
       "    }\n",
       "</style>\n",
       "<table border=\"1\" class=\"dataframe\">\n",
       "  <thead>\n",
       "    <tr style=\"text-align: right;\">\n",
       "      <th></th>\n",
       "      <th>pH</th>\n",
       "      <th>Temprature</th>\n",
       "      <th>Taste</th>\n",
       "      <th>Odor</th>\n",
       "      <th>Fat</th>\n",
       "      <th>Turbidity</th>\n",
       "      <th>Colour</th>\n",
       "    </tr>\n",
       "  </thead>\n",
       "  <tbody>\n",
       "    <tr>\n",
       "      <th>576</th>\n",
       "      <td>-0.049506</td>\n",
       "      <td>-0.441856</td>\n",
       "      <td>0.89253</td>\n",
       "      <td>-0.850633</td>\n",
       "      <td>0.778499</td>\n",
       "      <td>1.068370</td>\n",
       "      <td>0.739487</td>\n",
       "    </tr>\n",
       "    <tr>\n",
       "      <th>312</th>\n",
       "      <td>-1.646626</td>\n",
       "      <td>1.345807</td>\n",
       "      <td>-1.12041</td>\n",
       "      <td>1.175595</td>\n",
       "      <td>0.778499</td>\n",
       "      <td>1.068370</td>\n",
       "      <td>-0.380308</td>\n",
       "    </tr>\n",
       "    <tr>\n",
       "      <th>70</th>\n",
       "      <td>1.775773</td>\n",
       "      <td>-0.173707</td>\n",
       "      <td>0.89253</td>\n",
       "      <td>-0.850633</td>\n",
       "      <td>0.778499</td>\n",
       "      <td>1.068370</td>\n",
       "      <td>-0.380308</td>\n",
       "    </tr>\n",
       "    <tr>\n",
       "      <th>682</th>\n",
       "      <td>0.102600</td>\n",
       "      <td>0.005059</td>\n",
       "      <td>-1.12041</td>\n",
       "      <td>-0.850633</td>\n",
       "      <td>-1.284523</td>\n",
       "      <td>1.068370</td>\n",
       "      <td>0.739487</td>\n",
       "    </tr>\n",
       "    <tr>\n",
       "      <th>896</th>\n",
       "      <td>-0.049506</td>\n",
       "      <td>-0.620623</td>\n",
       "      <td>-1.12041</td>\n",
       "      <td>-0.850633</td>\n",
       "      <td>-1.284523</td>\n",
       "      <td>-0.936005</td>\n",
       "      <td>0.739487</td>\n",
       "    </tr>\n",
       "  </tbody>\n",
       "</table>\n",
       "</div>"
      ],
      "text/plain": [
       "           pH  Temprature    Taste      Odor       Fat  Turbidity    Colour\n",
       "576 -0.049506   -0.441856  0.89253 -0.850633  0.778499   1.068370  0.739487\n",
       "312 -1.646626    1.345807 -1.12041  1.175595  0.778499   1.068370 -0.380308\n",
       "70   1.775773   -0.173707  0.89253 -0.850633  0.778499   1.068370 -0.380308\n",
       "682  0.102600    0.005059 -1.12041 -0.850633 -1.284523   1.068370  0.739487\n",
       "896 -0.049506   -0.620623 -1.12041 -0.850633 -1.284523  -0.936005  0.739487"
      ]
     },
     "execution_count": 27,
     "metadata": {},
     "output_type": "execute_result"
    }
   ],
   "source": [
    "# standardizing the numerical data\n",
    "X_tests=pd.DataFrame(st.fit_transform(X_test),\n",
    "                    columns=X_test.columns,\n",
    "                      index=X_test.index)\n",
    "X_tests.head()"
   ]
  },
  {
   "cell_type": "markdown",
   "id": "1f5afe51",
   "metadata": {},
   "source": [
    "## Building the Logical Structure"
   ]
  },
  {
   "cell_type": "code",
   "execution_count": 28,
   "id": "6246dc2f",
   "metadata": {},
   "outputs": [],
   "source": [
    "from keras.initializers import Zeros,Ones,glorot_normal,glorot_uniform,he_normal,he_uniform,random_uniform,random_normal "
   ]
  },
  {
   "cell_type": "code",
   "execution_count": 29,
   "id": "b6662d96",
   "metadata": {},
   "outputs": [],
   "source": [
    "# Define the function to build the model for Keras Tuner\n",
    "def build_model(hp):\n",
    "    model = Sequential()\n",
    "    model.add(Input(shape=(X_trains.shape[1],)))\n",
    "    \n",
    "    for i in range(hp.Int(\"hiddenlayers\", min_value=5, max_value=10)):\n",
    "        model.add(Dense(units=hp.Int(\"neurons{}\".format(i), min_value=1, max_value=15),\n",
    "                        activation=hp.Choice(\"activation\", values=[\"sigmoid\", \"tanh\", \"relu\"]),\n",
    "                        kernel_initializer=hp.Choice(\"weight_init\", values=[\"glorot_uniform\", \"glorot_normal\", \"he_uniform\", \"he_normal\"])))\n",
    "\n",
    "    model.add(Dense(3, activation='softmax'))  # Adjusted for three classes\n",
    "    \n",
    "    model.compile(loss='sparse_categorical_crossentropy', optimizer='adam', metrics=['accuracy'])\n",
    "    return model\n"
   ]
  },
  {
   "cell_type": "code",
   "execution_count": 33,
   "id": "7b4b4c4a",
   "metadata": {},
   "outputs": [],
   "source": [
    "# Instantiate the tuner and perform hyperparameter tuning\n",
    "tuner = RandomSearch(\n",
    "    build_model,\n",
    "    objective='val_accuracy',\n",
    "    max_trials=5,\n",
    "    directory=r'F:\\Deep Learning Assignments\\Project-1\\models',\n",
    "    project_name=\"list_of_models\"\n",
    ")"
   ]
  },
  {
   "cell_type": "code",
   "execution_count": 34,
   "id": "68831c9d",
   "metadata": {},
   "outputs": [
    {
     "name": "stdout",
     "output_type": "stream",
     "text": [
      "Trial 5 Complete [00h 00m 04s]\n",
      "val_accuracy: 0.40566039085388184\n",
      "\n",
      "Best val_accuracy So Far: 0.9103773832321167\n",
      "Total elapsed time: 00h 00m 26s\n"
     ]
    }
   ],
   "source": [
    "tuner.search(X_trains, y_train, epochs=15, validation_data=(X_tests, y_test))"
   ]
  },
  {
   "cell_type": "code",
   "execution_count": 35,
   "id": "922e8f8e",
   "metadata": {},
   "outputs": [
    {
     "name": "stdout",
     "output_type": "stream",
     "text": [
      "Search space summary\n",
      "Default search space size: 13\n",
      "hiddenlayers (Int)\n",
      "{'default': None, 'conditions': [], 'min_value': 5, 'max_value': 10, 'step': 1, 'sampling': 'linear'}\n",
      "neurons0 (Int)\n",
      "{'default': None, 'conditions': [], 'min_value': 1, 'max_value': 15, 'step': 1, 'sampling': 'linear'}\n",
      "activation (Choice)\n",
      "{'default': 'sigmoid', 'conditions': [], 'values': ['sigmoid', 'tanh', 'relu'], 'ordered': False}\n",
      "weight_init (Choice)\n",
      "{'default': 'glorot_uniform', 'conditions': [], 'values': ['glorot_uniform', 'glorot_normal', 'he_uniform', 'he_normal'], 'ordered': False}\n",
      "neurons1 (Int)\n",
      "{'default': None, 'conditions': [], 'min_value': 1, 'max_value': 15, 'step': 1, 'sampling': 'linear'}\n",
      "neurons2 (Int)\n",
      "{'default': None, 'conditions': [], 'min_value': 1, 'max_value': 15, 'step': 1, 'sampling': 'linear'}\n",
      "neurons3 (Int)\n",
      "{'default': None, 'conditions': [], 'min_value': 1, 'max_value': 15, 'step': 1, 'sampling': 'linear'}\n",
      "neurons4 (Int)\n",
      "{'default': None, 'conditions': [], 'min_value': 1, 'max_value': 15, 'step': 1, 'sampling': 'linear'}\n",
      "neurons5 (Int)\n",
      "{'default': None, 'conditions': [], 'min_value': 1, 'max_value': 15, 'step': 1, 'sampling': 'linear'}\n",
      "neurons6 (Int)\n",
      "{'default': None, 'conditions': [], 'min_value': 1, 'max_value': 15, 'step': 1, 'sampling': 'linear'}\n",
      "neurons7 (Int)\n",
      "{'default': None, 'conditions': [], 'min_value': 1, 'max_value': 15, 'step': 1, 'sampling': 'linear'}\n",
      "neurons8 (Int)\n",
      "{'default': None, 'conditions': [], 'min_value': 1, 'max_value': 15, 'step': 1, 'sampling': 'linear'}\n",
      "neurons9 (Int)\n",
      "{'default': None, 'conditions': [], 'min_value': 1, 'max_value': 15, 'step': 1, 'sampling': 'linear'}\n"
     ]
    }
   ],
   "source": [
    "tuner.search_space_summary()"
   ]
  },
  {
   "cell_type": "code",
   "execution_count": 36,
   "id": "7603f339",
   "metadata": {},
   "outputs": [
    {
     "name": "stdout",
     "output_type": "stream",
     "text": [
      "Results summary\n",
      "Results in F:\\Deep Learning Assignments\\Project-1\\models\\list_of_models\n",
      "Showing 10 best trials\n",
      "Objective(name=\"val_accuracy\", direction=\"max\")\n",
      "\n",
      "Trial 3 summary\n",
      "Hyperparameters:\n",
      "hiddenlayers: 7\n",
      "neurons0: 4\n",
      "activation: relu\n",
      "weight_init: glorot_normal\n",
      "neurons1: 10\n",
      "neurons2: 4\n",
      "neurons3: 6\n",
      "neurons4: 8\n",
      "neurons5: 4\n",
      "neurons6: 5\n",
      "neurons7: 1\n",
      "neurons8: 8\n",
      "neurons9: 5\n",
      "Score: 0.9103773832321167\n",
      "\n",
      "Trial 2 summary\n",
      "Hyperparameters:\n",
      "hiddenlayers: 7\n",
      "neurons0: 6\n",
      "activation: tanh\n",
      "weight_init: glorot_normal\n",
      "neurons1: 9\n",
      "neurons2: 4\n",
      "neurons3: 10\n",
      "neurons4: 8\n",
      "neurons5: 3\n",
      "neurons6: 7\n",
      "neurons7: 15\n",
      "neurons8: 6\n",
      "neurons9: 11\n",
      "Score: 0.8113207817077637\n",
      "\n",
      "Trial 1 summary\n",
      "Hyperparameters:\n",
      "hiddenlayers: 9\n",
      "neurons0: 2\n",
      "activation: tanh\n",
      "weight_init: he_normal\n",
      "neurons1: 8\n",
      "neurons2: 3\n",
      "neurons3: 4\n",
      "neurons4: 10\n",
      "neurons5: 10\n",
      "neurons6: 14\n",
      "neurons7: 3\n",
      "neurons8: 9\n",
      "neurons9: 5\n",
      "Score: 0.6698113083839417\n",
      "\n",
      "Trial 4 summary\n",
      "Hyperparameters:\n",
      "hiddenlayers: 9\n",
      "neurons0: 7\n",
      "activation: sigmoid\n",
      "weight_init: glorot_uniform\n",
      "neurons1: 9\n",
      "neurons2: 10\n",
      "neurons3: 7\n",
      "neurons4: 5\n",
      "neurons5: 14\n",
      "neurons6: 3\n",
      "neurons7: 4\n",
      "neurons8: 8\n",
      "neurons9: 2\n",
      "Score: 0.40566039085388184\n",
      "\n",
      "Trial 0 summary\n",
      "Hyperparameters:\n",
      "hiddenlayers: 10\n",
      "neurons0: 6\n",
      "activation: sigmoid\n",
      "weight_init: he_normal\n",
      "neurons1: 5\n",
      "neurons2: 13\n",
      "neurons3: 7\n",
      "neurons4: 6\n",
      "neurons5: 1\n",
      "neurons6: 1\n",
      "neurons7: 1\n",
      "neurons8: 1\n",
      "neurons9: 1\n",
      "Score: 0.3679245412349701\n"
     ]
    }
   ],
   "source": [
    "tuner.results_summary()"
   ]
  },
  {
   "cell_type": "code",
   "execution_count": 37,
   "id": "233f2fd2",
   "metadata": {},
   "outputs": [],
   "source": [
    "# Get the best hyperparameters\n",
    "best_hps = tuner.get_best_hyperparameters(num_trials=1)[0]\n",
    "\n",
    "# Build the model with the best hyperparameters and train it on the full dataset\n",
    "model = tuner.hypermodel.build(best_hps)"
   ]
  },
  {
   "cell_type": "code",
   "execution_count": 38,
   "id": "07333e7a",
   "metadata": {},
   "outputs": [
    {
     "name": "stdout",
     "output_type": "stream",
     "text": [
      "Model: \"sequential_1\"\n",
      "_________________________________________________________________\n",
      " Layer (type)                Output Shape              Param #   \n",
      "=================================================================\n",
      " dense_10 (Dense)            (None, 4)                 32        \n",
      "                                                                 \n",
      " dense_11 (Dense)            (None, 10)                50        \n",
      "                                                                 \n",
      " dense_12 (Dense)            (None, 4)                 44        \n",
      "                                                                 \n",
      " dense_13 (Dense)            (None, 6)                 30        \n",
      "                                                                 \n",
      " dense_14 (Dense)            (None, 8)                 56        \n",
      "                                                                 \n",
      " dense_15 (Dense)            (None, 4)                 36        \n",
      "                                                                 \n",
      " dense_16 (Dense)            (None, 5)                 25        \n",
      "                                                                 \n",
      " dense_17 (Dense)            (None, 3)                 18        \n",
      "                                                                 \n",
      "=================================================================\n",
      "Total params: 291 (1.14 KB)\n",
      "Trainable params: 291 (1.14 KB)\n",
      "Non-trainable params: 0 (0.00 Byte)\n",
      "_________________________________________________________________\n"
     ]
    }
   ],
   "source": [
    "model.summary()"
   ]
  },
  {
   "cell_type": "code",
   "execution_count": 39,
   "id": "2ce9a80a",
   "metadata": {},
   "outputs": [
    {
     "name": "stdout",
     "output_type": "stream",
     "text": [
      "Epoch 1/10\n",
      "95/95 [==============================] - 2s 4ms/step - loss: 1.0790 - accuracy: 0.3601 - val_loss: 1.1392 - val_accuracy: 0.0000e+00\n",
      "Epoch 2/10\n",
      "95/95 [==============================] - 0s 2ms/step - loss: 0.9290 - accuracy: 0.5206 - val_loss: 1.0524 - val_accuracy: 0.0000e+00\n",
      "Epoch 3/10\n",
      "95/95 [==============================] - 0s 2ms/step - loss: 0.6787 - accuracy: 0.8152 - val_loss: 0.5908 - val_accuracy: 0.6981\n",
      "Epoch 4/10\n",
      "95/95 [==============================] - 0s 2ms/step - loss: 0.4954 - accuracy: 0.8870 - val_loss: 0.4545 - val_accuracy: 0.6981\n",
      "Epoch 5/10\n",
      "95/95 [==============================] - 0s 2ms/step - loss: 0.3889 - accuracy: 0.8976 - val_loss: 0.3347 - val_accuracy: 0.8396\n",
      "Epoch 6/10\n",
      "95/95 [==============================] - 0s 2ms/step - loss: 0.3082 - accuracy: 0.9029 - val_loss: 0.3009 - val_accuracy: 0.8396\n",
      "Epoch 7/10\n",
      "95/95 [==============================] - 0s 2ms/step - loss: 0.2447 - accuracy: 0.9303 - val_loss: 0.2448 - val_accuracy: 0.9811\n",
      "Epoch 8/10\n",
      "95/95 [==============================] - 0s 2ms/step - loss: 0.2100 - accuracy: 0.9377 - val_loss: 0.1714 - val_accuracy: 0.9811\n",
      "Epoch 9/10\n",
      "95/95 [==============================] - 0s 3ms/step - loss: 0.1852 - accuracy: 0.9451 - val_loss: 0.1537 - val_accuracy: 0.9811\n",
      "Epoch 10/10\n",
      "95/95 [==============================] - 1s 5ms/step - loss: 0.1734 - accuracy: 0.9504 - val_loss: 0.1395 - val_accuracy: 0.9811\n"
     ]
    }
   ],
   "source": [
    "hist=model.fit(X_trains,y_train,batch_size=10,epochs=10,validation_split=0.1)"
   ]
  },
  {
   "cell_type": "code",
   "execution_count": 40,
   "id": "03d6ddb1",
   "metadata": {},
   "outputs": [],
   "source": [
    "import matplotlib.pyplot as plt"
   ]
  },
  {
   "cell_type": "code",
   "execution_count": 41,
   "id": "27d47948",
   "metadata": {},
   "outputs": [
    {
     "data": {
      "text/plain": [
       "<matplotlib.legend.Legend at 0x1e49310ebc0>"
      ]
     },
     "execution_count": 41,
     "metadata": {},
     "output_type": "execute_result"
    },
    {
     "data": {
      "image/png": "[encoded data removed]",
      "text/plain": [
       "<Figure size 640x480 with 1 Axes>"
      ]
     },
     "metadata": {},
     "output_type": "display_data"
    }
   ],
   "source": [
    "plt.plot(range(1,11),hist.history[\"loss\"],label=\"train_loss\")\n",
    "plt.plot(range(1,11),hist.history[\"val_loss\"],label=\"val_loss\")\n",
    "plt.legend()"
   ]
  },
  {
   "cell_type": "markdown",
   "id": "d65afe16",
   "metadata": {},
   "source": [
    "## Evaluation of the Model"
   ]
  },
  {
   "cell_type": "code",
   "execution_count": 42,
   "id": "133c57e9",
   "metadata": {},
   "outputs": [
    {
     "name": "stdout",
     "output_type": "stream",
     "text": [
      "7/7 [==============================] - 0s 3ms/step\n",
      "Accuracy: 0.9198113207547169\n",
      "Precision: 0.930672062187892\n",
      "Recall: 0.9198113207547169\n",
      "F1 Score: 0.9221837575300041\n"
     ]
    }
   ],
   "source": [
    "from sklearn.metrics import accuracy_score, precision_score, recall_score, f1_score\n",
    "\n",
    "y_pred = model.predict(X_tests)\n",
    "\n",
    "# Convert predicted probabilities to class labels\n",
    "y_pred_classes = y_pred.argmax(axis=-1)\n",
    "\n",
    "# Calculate evaluation metrics\n",
    "accuracy = accuracy_score(y_test, y_pred_classes)\n",
    "precision = precision_score(y_test, y_pred_classes, average='weighted')\n",
    "recall = recall_score(y_test, y_pred_classes, average='weighted')\n",
    "f1 = f1_score(y_test, y_pred_classes, average='weighted')\n",
    "\n",
    "print(\"Accuracy:\", accuracy)\n",
    "print(\"Precision:\", precision)\n",
    "print(\"Recall:\", recall)\n",
    "print(\"F1 Score:\", f1)\n"
   ]
  },
  {
   "cell_type": "code",
   "execution_count": 43,
   "id": "bfe32d55",
   "metadata": {},
   "outputs": [],
   "source": [
    "from sklearn.metrics import confusion_matrix, ConfusionMatrixDisplay"
   ]
  },
  {
   "cell_type": "code",
   "execution_count": 44,
   "id": "b9f48832",
   "metadata": {},
   "outputs": [
    {
     "data": {
      "image/png": "[encoded data removed]",
      "text/plain": [
       "<Figure size 640x480 with 2 Axes>"
      ]
     },
     "metadata": {},
     "output_type": "display_data"
    }
   ],
   "source": [
    "cm = confusion_matrix(y_test,y_pred_classes)\n",
    "va = ConfusionMatrixDisplay(cm)\n",
    "va.plot()\n",
    "plt.show()"
   ]
  }
 ],
 "metadata": {
  "kernelspec": {
   "display_name": "Python 3 (ipykernel)",
   "language": "python",
   "name": "python3"
  },
  "language_info": {
   "codemirror_mode": {
    "name": "ipython",
    "version": 3
   },
   "file_extension": ".py",
   "mimetype": "text/x-python",
   "name": "python",
   "nbconvert_exporter": "python",
   "pygments_lexer": "ipython3",
   "version": "3.10.9"
  }
 },
 "nbformat": 4,
 "nbformat_minor": 5
}
