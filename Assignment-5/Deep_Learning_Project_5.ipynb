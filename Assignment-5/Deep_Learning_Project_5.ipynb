{
 "cells": [
  {
   "cell_type": "code",
   "execution_count": 1,
   "id": "d77a58b5",
   "metadata": {},
   "outputs": [],
   "source": [
    "import pandas as pd\n",
    "import numpy as np\n",
    "import cv2\n",
    "import seaborn as sns\n",
    "import matplotlib.pyplot as plt\n",
    "from sklearn.model_selection import train_test_split"
   ]
  },
  {
   "cell_type": "code",
   "execution_count": 2,
   "id": "3604221d",
   "metadata": {},
   "outputs": [],
   "source": [
    "from sklearn.preprocessing import StandardScaler\n",
    "import keras\n",
    "from keras import Sequential\n",
    "from keras.layers import Dense\n",
    "from keras.regularizers import L1,L1L2,L2\n",
    "from keras.optimizers import SGD\n",
    "from mlxtend.plotting import plot_decision_regions"
   ]
  },
  {
   "cell_type": "code",
   "execution_count": 5,
   "id": "9b6ac828",
   "metadata": {},
   "outputs": [
    {
     "data": {
      "text/plain": [
       "[(6, 8, 0),\n",
       " (6, 23, 0),\n",
       " (15, 15, 0),\n",
       " (30, 7, 0),\n",
       " (22, 28, 0),\n",
       " (5, 35, 0),\n",
       " (14, 31, 0),\n",
       " (33, 19, 0),\n",
       " (22, 7, 0),\n",
       " (10, 46, 0),\n",
       " (22, 40, 0),\n",
       " (31, 35, 0),\n",
       " (42, 28, 0),\n",
       " (48, 18, 0),\n",
       " (45, 9, 0),\n",
       " (6, 57, 0),\n",
       " (20, 55, 0),\n",
       " (30, 49, 0),\n",
       " (38, 45, 0),\n",
       " (47, 36, 0),\n",
       " (57, 28, 0),\n",
       " (61, 15, 0),\n",
       " (7, 72, 0),\n",
       " (19, 64, 0),\n",
       " (37, 61, 0),\n",
       " (46, 52, 0),\n",
       " (56, 46, 0),\n",
       " (66, 33, 0),\n",
       " (82, 19, 0),\n",
       " (76, 24, 0),\n",
       " (74, 11, 0),\n",
       " (26, 67, 0),\n",
       " (22, 73, 0),\n",
       " (14, 79, 0),\n",
       " (1, 83, 0),\n",
       " (3, 127, 0),\n",
       " (7, 118, 0),\n",
       " (6, 104, 0),\n",
       " (15, 96, 0),\n",
       " (20, 109, 0),\n",
       " (26, 85, 0),\n",
       " (35, 97, 0),\n",
       " (45, 75, 0),\n",
       " (48, 86, 0),\n",
       " (54, 65, 0),\n",
       " (70, 49, 0),\n",
       " (67, 71, 0),\n",
       " (78, 59, 0),\n",
       " (84, 40, 0),\n",
       " (91, 22, 0),\n",
       " (98, 43, 0),\n",
       " (105, 24, 0),\n",
       " (101, 10, 0),\n",
       " (90, 54, 0),\n",
       " (58, 59, 0),\n",
       " (38, 87, 0),\n",
       " (182, 249, 1),\n",
       " (185, 237, 1),\n",
       " (188, 227, 1),\n",
       " (191, 216, 1),\n",
       " (195, 207, 1),\n",
       " (199, 202, 0),\n",
       " (201, 195, 1),\n",
       " (204, 188, 1),\n",
       " (208, 181, 1),\n",
       " (212, 174, 1),\n",
       " (215, 167, 1),\n",
       " (219, 160, 1),\n",
       " (223, 154, 1),\n",
       " (228, 150, 0),\n",
       " (232, 145, 1),\n",
       " (238, 138, 1),\n",
       " (243, 136, 1),\n",
       " (248, 135, 1),\n",
       " (254, 133, 1),\n",
       " (189, 250, 1),\n",
       " (193, 243, 1),\n",
       " (195, 235, 1),\n",
       " (198, 227, 1),\n",
       " (202, 219, 1),\n",
       " (206, 212, 1),\n",
       " (209, 202, 1),\n",
       " (214, 189, 1),\n",
       " (220, 180, 1),\n",
       " (225, 171, 1),\n",
       " (229, 163, 1),\n",
       " (234, 157, 1),\n",
       " (242, 152, 1),\n",
       " (248, 147, 1),\n",
       " (198, 252, 1),\n",
       " (202, 245, 1),\n",
       " (205, 235, 1),\n",
       " (208, 227, 1),\n",
       " (213, 219, 1),\n",
       " (219, 205, 1),\n",
       " (209, 253, 1),\n",
       " (212, 243, 1),\n",
       " (216, 233, 1),\n",
       " (221, 223, 1),\n",
       " (223, 216, 1),\n",
       " (216, 211, 1),\n",
       " (219, 194, 1),\n",
       " (225, 200, 1),\n",
       " (225, 189, 1),\n",
       " (230, 183, 1),\n",
       " (234, 177, 1),\n",
       " (238, 170, 1),\n",
       " (245, 163, 1),\n",
       " (231, 208, 0),\n",
       " (233, 197, 1),\n",
       " (239, 190, 1),\n",
       " (244, 180, 1),\n",
       " (219, 251, 1),\n",
       " (224, 240, 1),\n",
       " (228, 230, 1),\n",
       " (234, 220, 1),\n",
       " (240, 211, 0),\n",
       " (245, 199, 1),\n",
       " (252, 192, 1),\n",
       " (253, 175, 0),\n",
       " (230, 252, 1),\n",
       " (237, 241, 1),\n",
       " (241, 231, 1),\n",
       " (247, 221, 1),\n",
       " (247, 243, 1),\n",
       " (243, 249, 1),\n",
       " (255, 230, 1),\n",
       " (252, 212, 1),\n",
       " (253, 162, 1),\n",
       " (254, 247, 1),\n",
       " (77, 37, 0),\n",
       " (92, 34, 0),\n",
       " (181, 5, 0),\n",
       " (188, 15, 0),\n",
       " (198, 25, 0),\n",
       " (207, 34, 0),\n",
       " (216, 39, 0),\n",
       " (227, 45, 0),\n",
       " (237, 51, 0),\n",
       " (248, 55, 0),\n",
       " (208, 14, 0),\n",
       " (215, 24, 0),\n",
       " (226, 32, 0),\n",
       " (237, 36, 0),\n",
       " (250, 43, 0),\n",
       " (226, 8, 0),\n",
       " (237, 19, 0),\n",
       " (247, 28, 0),\n",
       " (247, 9, 0),\n",
       " (224, 19, 0),\n",
       " (216, 8, 0),\n",
       " (197, 8, 0),\n",
       " (235, 10, 0),\n",
       " (1, 163, 1),\n",
       " (2, 176, 1),\n",
       " (7, 186, 1),\n",
       " (13, 197, 1),\n",
       " (19, 208, 1),\n",
       " (25, 219, 1),\n",
       " (31, 228, 1),\n",
       " (39, 240, 1),\n",
       " (12, 172, 1),\n",
       " (18, 182, 1),\n",
       " (25, 193, 1),\n",
       " (31, 202, 1),\n",
       " (37, 210, 1),\n",
       " (41, 220, 1),\n",
       " (47, 232, 1),\n",
       " (51, 242, 1),\n",
       " (0, 195, 1),\n",
       " (4, 201, 1),\n",
       " (9, 209, 1),\n",
       " (15, 220, 1),\n",
       " (19, 226, 1),\n",
       " (26, 239, 1),\n",
       " (33, 249, 1),\n",
       " (1, 216, 0),\n",
       " (6, 225, 1),\n",
       " (12, 233, 1),\n",
       " (18, 243, 1),\n",
       " (1, 237, 1),\n",
       " (7, 245, 1),\n",
       " (1, 249, 0),\n",
       " (41, 105, 1),\n",
       " (48, 98, 1),\n",
       " (27, 98, 0),\n",
       " (59, 82, 1),\n",
       " (179, 18, 1),\n",
       " (183, 32, 1),\n",
       " (175, 30, 0),\n",
       " (194, 37, 0),\n",
       " (187, 44, 0),\n",
       " (189, 27, 0),\n",
       " (196, 48, 0),\n",
       " (208, 51, 0),\n",
       " (208, 61, 0),\n",
       " (217, 55, 0),\n",
       " (223, 66, 0),\n",
       " (229, 60, 0),\n",
       " (241, 69, 0),\n",
       " (233, 71, 0),\n",
       " (253, 72, 0),\n",
       " (45, 248, 1),\n",
       " (45, 206, 1),\n",
       " (42, 195, 1),\n",
       " (36, 184, 1),\n",
       " (30, 174, 0),\n",
       " (22, 159, 1),\n",
       " (52, 214, 1),\n",
       " (58, 231, 1),\n",
       " (63, 214, 1),\n",
       " (57, 197, 0),\n",
       " (54, 183, 1),\n",
       " (47, 164, 1),\n",
       " (42, 156, 1),\n",
       " (34, 147, 1),\n",
       " (69, 243, 1),\n",
       " (70, 225, 1),\n",
       " (82, 231, 1),\n",
       " (78, 205, 1),\n",
       " (72, 187, 1),\n",
       " (66, 171, 1),\n",
       " (60, 151, 1),\n",
       " (51, 144, 1)]"
      ]
     },
     "execution_count": 5,
     "metadata": {},
     "output_type": "execute_result"
    }
   ],
   "source": [
    "dataset = []\n",
    "def draw(event,x,y,flag,param):\n",
    "    if event == cv2.EVENT_FLAG_LBUTTON:\n",
    "        dataset.append((x,y,0))\n",
    "        cv2.circle(img,(x,y),4,(255,0,0),-1)\n",
    "    elif event == cv2.EVENT_FLAG_RBUTTON:\n",
    "        dataset.append((x,y,1))\n",
    "        cv2.circle(img,(x,y),4,(0,255,0),-1)\n",
    "img = np.zeros((255,255,3),np.uint8)\n",
    "cv2.namedWindow('dataset',cv2.WINDOW_NORMAL)\n",
    "cv2.setMouseCallback('dataset',draw)\n",
    "\n",
    "while True:\n",
    "    cv2.imshow('dataset',img)\n",
    "    if cv2.waitKey(1) & 255 == ord('q'):\n",
    "        break\n",
    "cv2.destroyAllWindows()\n",
    "\n",
    "dataset"
   ]
  },
  {
   "cell_type": "code",
   "execution_count": 7,
   "id": "2bcf7b72",
   "metadata": {},
   "outputs": [],
   "source": [
    "df = pd.DataFrame(dataset)"
   ]
  },
  {
   "cell_type": "code",
   "execution_count": 8,
   "id": "475c5c4d",
   "metadata": {},
   "outputs": [],
   "source": [
    "df.to_csv(r'cv_dataset.csv')"
   ]
  },
  {
   "cell_type": "code",
   "execution_count": 13,
   "id": "7a174ae0",
   "metadata": {},
   "outputs": [],
   "source": [
    "# load dataset\n",
    "df = pd.read_csv(r'cv_dataset.csv')"
   ]
  },
  {
   "cell_type": "code",
   "execution_count": 14,
   "id": "d3e66450",
   "metadata": {},
   "outputs": [
    {
     "data": {
      "text/html": [
       "<div>\n",
       "<style scoped>\n",
       "    .dataframe tbody tr th:only-of-type {\n",
       "        vertical-align: middle;\n",
       "    }\n",
       "\n",
       "    .dataframe tbody tr th {\n",
       "        vertical-align: top;\n",
       "    }\n",
       "\n",
       "    .dataframe thead th {\n",
       "        text-align: right;\n",
       "    }\n",
       "</style>\n",
       "<table border=\"1\" class=\"dataframe\">\n",
       "  <thead>\n",
       "    <tr style=\"text-align: right;\">\n",
       "      <th></th>\n",
       "      <th>Unnamed: 0</th>\n",
       "      <th>0</th>\n",
       "      <th>1</th>\n",
       "      <th>2</th>\n",
       "    </tr>\n",
       "  </thead>\n",
       "  <tbody>\n",
       "    <tr>\n",
       "      <th>0</th>\n",
       "      <td>0</td>\n",
       "      <td>6</td>\n",
       "      <td>8</td>\n",
       "      <td>0</td>\n",
       "    </tr>\n",
       "    <tr>\n",
       "      <th>1</th>\n",
       "      <td>1</td>\n",
       "      <td>6</td>\n",
       "      <td>23</td>\n",
       "      <td>0</td>\n",
       "    </tr>\n",
       "    <tr>\n",
       "      <th>2</th>\n",
       "      <td>2</td>\n",
       "      <td>15</td>\n",
       "      <td>15</td>\n",
       "      <td>0</td>\n",
       "    </tr>\n",
       "    <tr>\n",
       "      <th>3</th>\n",
       "      <td>3</td>\n",
       "      <td>30</td>\n",
       "      <td>7</td>\n",
       "      <td>0</td>\n",
       "    </tr>\n",
       "    <tr>\n",
       "      <th>4</th>\n",
       "      <td>4</td>\n",
       "      <td>22</td>\n",
       "      <td>28</td>\n",
       "      <td>0</td>\n",
       "    </tr>\n",
       "  </tbody>\n",
       "</table>\n",
       "</div>"
      ],
      "text/plain": [
       "   Unnamed: 0   0   1  2\n",
       "0           0   6   8  0\n",
       "1           1   6  23  0\n",
       "2           2  15  15  0\n",
       "3           3  30   7  0\n",
       "4           4  22  28  0"
      ]
     },
     "execution_count": 14,
     "metadata": {},
     "output_type": "execute_result"
    }
   ],
   "source": [
    "df.head()"
   ]
  },
  {
   "cell_type": "code",
   "execution_count": 18,
   "id": "b1b5dca4",
   "metadata": {},
   "outputs": [],
   "source": [
    "df = df.drop('Unnamed: 0',axis = 1)"
   ]
  },
  {
   "cell_type": "code",
   "execution_count": 19,
   "id": "44fbd707",
   "metadata": {},
   "outputs": [
    {
     "data": {
      "text/html": [
       "<div>\n",
       "<style scoped>\n",
       "    .dataframe tbody tr th:only-of-type {\n",
       "        vertical-align: middle;\n",
       "    }\n",
       "\n",
       "    .dataframe tbody tr th {\n",
       "        vertical-align: top;\n",
       "    }\n",
       "\n",
       "    .dataframe thead th {\n",
       "        text-align: right;\n",
       "    }\n",
       "</style>\n",
       "<table border=\"1\" class=\"dataframe\">\n",
       "  <thead>\n",
       "    <tr style=\"text-align: right;\">\n",
       "      <th></th>\n",
       "      <th>0</th>\n",
       "      <th>1</th>\n",
       "      <th>2</th>\n",
       "    </tr>\n",
       "  </thead>\n",
       "  <tbody>\n",
       "    <tr>\n",
       "      <th>0</th>\n",
       "      <td>6</td>\n",
       "      <td>8</td>\n",
       "      <td>0</td>\n",
       "    </tr>\n",
       "    <tr>\n",
       "      <th>1</th>\n",
       "      <td>6</td>\n",
       "      <td>23</td>\n",
       "      <td>0</td>\n",
       "    </tr>\n",
       "    <tr>\n",
       "      <th>2</th>\n",
       "      <td>15</td>\n",
       "      <td>15</td>\n",
       "      <td>0</td>\n",
       "    </tr>\n",
       "    <tr>\n",
       "      <th>3</th>\n",
       "      <td>30</td>\n",
       "      <td>7</td>\n",
       "      <td>0</td>\n",
       "    </tr>\n",
       "    <tr>\n",
       "      <th>4</th>\n",
       "      <td>22</td>\n",
       "      <td>28</td>\n",
       "      <td>0</td>\n",
       "    </tr>\n",
       "  </tbody>\n",
       "</table>\n",
       "</div>"
      ],
      "text/plain": [
       "    0   1  2\n",
       "0   6   8  0\n",
       "1   6  23  0\n",
       "2  15  15  0\n",
       "3  30   7  0\n",
       "4  22  28  0"
      ]
     },
     "execution_count": 19,
     "metadata": {},
     "output_type": "execute_result"
    }
   ],
   "source": [
    "df.head()"
   ]
  },
  {
   "cell_type": "code",
   "execution_count": 21,
   "id": "821fbf78",
   "metadata": {},
   "outputs": [],
   "source": [
    "X = df.iloc[:,0:2]\n",
    "y = df.iloc[:,2]"
   ]
  },
  {
   "cell_type": "code",
   "execution_count": 24,
   "id": "f2616bde",
   "metadata": {},
   "outputs": [],
   "source": [
    "# train-test-split\n",
    "x_train,x_test,y_train,y_test = train_test_split(X,y,test_size=0.1)"
   ]
  },
  {
   "cell_type": "code",
   "execution_count": 25,
   "id": "aeb5638e",
   "metadata": {},
   "outputs": [],
   "source": [
    "# data preprocessing\n",
    "std = StandardScaler()\n",
    "x_trainp = std.fit_transform(x_train)\n",
    "x_testp = std.transform(x_test)"
   ]
  },
  {
   "cell_type": "code",
   "execution_count": 97,
   "id": "b82346b2",
   "metadata": {},
   "outputs": [],
   "source": [
    "# creating neural network\n",
    "model = Sequential()\n",
    "model.add(Dense(10,activation=\"sigmoid\",kernel_regularizer=L1(0.002),bias_regularizer=L1(0.001),input_dim=2))\n",
    "model.add(Dense(5,activation=\"relu\",kernel_regularizer=L1(0.002),bias_regularizer=L1(0.001)))\n",
    "model.add(Dense(3,activation=\"relu\",kernel_regularizer=L1(0.002),bias_regularizer=L1(0.001)))\n",
    "model.add(Dense(1,activation=\"sigmoid\",kernel_regularizer=L1(0.002),bias_regularizer=L1(0.001)))"
   ]
  },
  {
   "cell_type": "code",
   "execution_count": 102,
   "id": "57bbf7f8",
   "metadata": {},
   "outputs": [
    {
     "name": "stdout",
     "output_type": "stream",
     "text": [
      "Epoch 1/30\n",
      "36/36 [==============================] - 1s 7ms/step - loss: 0.3085 - accuracy: 0.9333 - val_loss: 0.3261 - val_accuracy: 0.9524\n",
      "Epoch 2/30\n",
      "36/36 [==============================] - 0s 3ms/step - loss: 0.3076 - accuracy: 0.9333 - val_loss: 0.3299 - val_accuracy: 0.9524\n",
      "Epoch 3/30\n",
      "36/36 [==============================] - 0s 3ms/step - loss: 0.3061 - accuracy: 0.9333 - val_loss: 0.3302 - val_accuracy: 0.9524\n",
      "Epoch 4/30\n",
      "36/36 [==============================] - 0s 3ms/step - loss: 0.3066 - accuracy: 0.9333 - val_loss: 0.3324 - val_accuracy: 0.9524\n",
      "Epoch 5/30\n",
      "36/36 [==============================] - 0s 3ms/step - loss: 0.3060 - accuracy: 0.9333 - val_loss: 0.3329 - val_accuracy: 0.9524\n",
      "Epoch 6/30\n",
      "36/36 [==============================] - 0s 3ms/step - loss: 0.3055 - accuracy: 0.9333 - val_loss: 0.3299 - val_accuracy: 0.9524\n",
      "Epoch 7/30\n",
      "36/36 [==============================] - 0s 3ms/step - loss: 0.3059 - accuracy: 0.9333 - val_loss: 0.3330 - val_accuracy: 0.9524\n",
      "Epoch 8/30\n",
      "36/36 [==============================] - 0s 3ms/step - loss: 0.3056 - accuracy: 0.9333 - val_loss: 0.3352 - val_accuracy: 0.9524\n",
      "Epoch 9/30\n",
      "36/36 [==============================] - 0s 3ms/step - loss: 0.3052 - accuracy: 0.9333 - val_loss: 0.3386 - val_accuracy: 0.9524\n",
      "Epoch 10/30\n",
      "36/36 [==============================] - 0s 3ms/step - loss: 0.3046 - accuracy: 0.9333 - val_loss: 0.3415 - val_accuracy: 0.9524\n",
      "Epoch 11/30\n",
      "36/36 [==============================] - 0s 3ms/step - loss: 0.3055 - accuracy: 0.9333 - val_loss: 0.3361 - val_accuracy: 0.9524\n",
      "Epoch 12/30\n",
      "36/36 [==============================] - 0s 3ms/step - loss: 0.3064 - accuracy: 0.9333 - val_loss: 0.3342 - val_accuracy: 0.9524\n",
      "Epoch 13/30\n",
      "36/36 [==============================] - 0s 3ms/step - loss: 0.3046 - accuracy: 0.9333 - val_loss: 0.3369 - val_accuracy: 0.9524\n",
      "Epoch 14/30\n",
      "36/36 [==============================] - 0s 3ms/step - loss: 0.3055 - accuracy: 0.9333 - val_loss: 0.3337 - val_accuracy: 0.9524\n",
      "Epoch 15/30\n",
      "36/36 [==============================] - 0s 3ms/step - loss: 0.3051 - accuracy: 0.9333 - val_loss: 0.3302 - val_accuracy: 0.9524\n",
      "Epoch 16/30\n",
      "36/36 [==============================] - 0s 3ms/step - loss: 0.3050 - accuracy: 0.9333 - val_loss: 0.3333 - val_accuracy: 0.9524\n",
      "Epoch 17/30\n",
      "36/36 [==============================] - 0s 3ms/step - loss: 0.3049 - accuracy: 0.9333 - val_loss: 0.3303 - val_accuracy: 0.9524\n",
      "Epoch 18/30\n",
      "36/36 [==============================] - 0s 3ms/step - loss: 0.3037 - accuracy: 0.9333 - val_loss: 0.3354 - val_accuracy: 0.9524\n",
      "Epoch 19/30\n",
      "36/36 [==============================] - 0s 3ms/step - loss: 0.3058 - accuracy: 0.9333 - val_loss: 0.3317 - val_accuracy: 0.9524\n",
      "Epoch 20/30\n",
      "36/36 [==============================] - 0s 3ms/step - loss: 0.3044 - accuracy: 0.9333 - val_loss: 0.3320 - val_accuracy: 0.9524\n",
      "Epoch 21/30\n",
      "36/36 [==============================] - 0s 3ms/step - loss: 0.3042 - accuracy: 0.9333 - val_loss: 0.3318 - val_accuracy: 0.9524\n",
      "Epoch 22/30\n",
      "36/36 [==============================] - 0s 3ms/step - loss: 0.3042 - accuracy: 0.9333 - val_loss: 0.3329 - val_accuracy: 0.9524\n",
      "Epoch 23/30\n",
      "36/36 [==============================] - 0s 3ms/step - loss: 0.3041 - accuracy: 0.9333 - val_loss: 0.3314 - val_accuracy: 0.9524\n",
      "Epoch 24/30\n",
      "36/36 [==============================] - 0s 3ms/step - loss: 0.3038 - accuracy: 0.9333 - val_loss: 0.3295 - val_accuracy: 0.9524\n",
      "Epoch 25/30\n",
      "36/36 [==============================] - 0s 3ms/step - loss: 0.3039 - accuracy: 0.9333 - val_loss: 0.3335 - val_accuracy: 0.9524\n",
      "Epoch 26/30\n",
      "36/36 [==============================] - 0s 3ms/step - loss: 0.3037 - accuracy: 0.9333 - val_loss: 0.3318 - val_accuracy: 0.9524\n",
      "Epoch 27/30\n",
      "36/36 [==============================] - 0s 3ms/step - loss: 0.3050 - accuracy: 0.9333 - val_loss: 0.3347 - val_accuracy: 0.9524\n",
      "Epoch 28/30\n",
      "36/36 [==============================] - 0s 3ms/step - loss: 0.3044 - accuracy: 0.9333 - val_loss: 0.3337 - val_accuracy: 0.9524\n",
      "Epoch 29/30\n",
      "36/36 [==============================] - 0s 3ms/step - loss: 0.3033 - accuracy: 0.9333 - val_loss: 0.3314 - val_accuracy: 0.9524\n",
      "Epoch 30/30\n",
      "36/36 [==============================] - 0s 3ms/step - loss: 0.3036 - accuracy: 0.9333 - val_loss: 0.3305 - val_accuracy: 0.9524\n"
     ]
    }
   ],
   "source": [
    "# model compilation\n",
    "model.compile(loss=\"binary_crossentropy\",optimizer=SGD(learning_rate=0.01),metrics=[\"accuracy\"])\n",
    "history = model.fit(x_trainp,y_train,batch_size=5,epochs=30,validation_split=0.1)"
   ]
  },
  {
   "cell_type": "code",
   "execution_count": 103,
   "id": "f6f1e66e",
   "metadata": {},
   "outputs": [
    {
     "data": {
      "text/plain": [
       "<matplotlib.legend.Legend at 0x1f7e023a3b0>"
      ]
     },
     "execution_count": 103,
     "metadata": {},
     "output_type": "execute_result"
    },
    {
     "data": {
      "image/png": "[encoded data removed]",
      "text/plain": [
       "<Figure size 640x480 with 1 Axes>"
      ]
     },
     "metadata": {},
     "output_type": "display_data"
    }
   ],
   "source": [
    "# train and validation loss\n",
    "plt.plot(range(1,31),history.history[\"loss\"],label=\"training\")\n",
    "plt.plot(range(1,31),history.history[\"val_loss\"],label=\"validation\")\n",
    "plt.legend()"
   ]
  },
  {
   "cell_type": "code",
   "execution_count": 104,
   "id": "7ef36e5e",
   "metadata": {},
   "outputs": [
    {
     "name": "stdout",
     "output_type": "stream",
     "text": [
      "9600/9600 [==============================] - 12s 1ms/step\n"
     ]
    },
    {
     "data": {
      "text/plain": [
       "<Axes: >"
      ]
     },
     "execution_count": 104,
     "metadata": {},
     "output_type": "execute_result"
    },
    {
     "data": {
      "image/png": "[encoded data removed]",
      "text/plain": [
       "<Figure size 640x480 with 1 Axes>"
      ]
     },
     "metadata": {},
     "output_type": "display_data"
    }
   ],
   "source": [
    "# decision surface on train data\n",
    "plot_decision_regions(x_trainp,y_train.values,clf=model)"
   ]
  },
  {
   "cell_type": "code",
   "execution_count": 105,
   "id": "52a3d7a1",
   "metadata": {},
   "outputs": [
    {
     "name": "stdout",
     "output_type": "stream",
     "text": [
      "9600/9600 [==============================] - 17s 2ms/step\n"
     ]
    },
    {
     "data": {
      "text/plain": [
       "<Axes: >"
      ]
     },
     "execution_count": 105,
     "metadata": {},
     "output_type": "execute_result"
    },
    {
     "data": {
      "image/png": "[encoded data removed]",
      "text/plain": [
       "<Figure size 640x480 with 1 Axes>"
      ]
     },
     "metadata": {},
     "output_type": "display_data"
    }
   ],
   "source": [
    "# decision surface on test data\n",
    "plot_decision_regions(x_testp,y_test.values,clf=model)"
   ]
  }
 ],
 "metadata": {
  "kernelspec": {
   "display_name": "Python 3 (ipykernel)",
   "language": "python",
   "name": "python3"
  },
  "language_info": {
   "codemirror_mode": {
    "name": "ipython",
    "version": 3
   },
   "file_extension": ".py",
   "mimetype": "text/x-python",
   "name": "python",
   "nbconvert_exporter": "python",
   "pygments_lexer": "ipython3",
   "version": "3.10.9"
  }
 },
 "nbformat": 4,
 "nbformat_minor": 5
}
