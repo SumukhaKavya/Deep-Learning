{
 "cells": [
  {
   "cell_type": "markdown",
   "id": "7fd1e6de",
   "metadata": {},
   "source": [
    "## Implementation of MCP Neuron"
   ]
  },
  {
   "cell_type": "code",
   "execution_count": 1,
   "id": "a8a811fd",
   "metadata": {},
   "outputs": [
    {
     "name": "stdout",
     "output_type": "stream",
     "text": [
      "The result of and activation function : 0\n",
      "The result of or activation function : 1\n"
     ]
    }
   ],
   "source": [
    "class MCP_Neuron:\n",
    "    \n",
    "    # initialize class with activation function\n",
    "    def __init__(self, act_func):\n",
    "        self.act_func = act_func\n",
    "    \n",
    "    # activation function which takes 'n' inputs     \n",
    "    def activation_func(self, *inputs):\n",
    "        # check if activation function is 'and'\n",
    "        if self.act_func == 'and':\n",
    "            if all(inputs):\n",
    "                return 1\n",
    "            else:\n",
    "                return 0\n",
    "        # check if activation function is 'or'\n",
    "        if self.act_func == 'or':\n",
    "            if any(inputs):\n",
    "                return 1\n",
    "            else:\n",
    "                return 0\n",
    "# create an object of MCP_Neuron class with activation function as and\n",
    "and_act_func = MCP_Neuron(act_func=\"and\")\n",
    "\n",
    "# create an object of MCP_Neuron class with activation function as or\n",
    "or_act_func = MCP_Neuron(act_func=\"or\") \n",
    "\n",
    "# and activation function\n",
    "and_func_res = and_act_func.activation_func(1, 1, 0, 1, 0, 1, 0, 0)\n",
    "\n",
    "# or activation function\n",
    "or_func_res = or_act_func.activation_func(1, 1, 0, 1, 0, 1, 0, 0)\n",
    "\n",
    "print(f'The result of and activation function : {and_func_res}')\n",
    "\n",
    "print(f'The result of or activation function : {or_func_res}')\n"
   ]
  }
 ],
 "metadata": {
  "kernelspec": {
   "display_name": "Python 3 (ipykernel)",
   "language": "python",
   "name": "python3"
  },
  "language_info": {
   "codemirror_mode": {
    "name": "ipython",
    "version": 3
   },
   "file_extension": ".py",
   "mimetype": "text/x-python",
   "name": "python",
   "nbconvert_exporter": "python",
   "pygments_lexer": "ipython3",
   "version": "3.10.9"
  }
 },
 "nbformat": 4,
 "nbformat_minor": 5
}
